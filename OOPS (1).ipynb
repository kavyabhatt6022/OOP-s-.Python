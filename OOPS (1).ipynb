{
  "nbformat": 4,
  "nbformat_minor": 0,
  "metadata": {
    "colab": {
      "provenance": []
    },
    "kernelspec": {
      "name": "python3",
      "display_name": "Python 3"
    },
    "language_info": {
      "name": "python"
    }
  },
  "cells": [
    {
      "cell_type": "markdown",
      "source": [
        "# Python OOP's Questions"
      ],
      "metadata": {
        "id": "CKLYyP5-aGxk"
      }
    },
    {
      "cell_type": "markdown",
      "source": [
        "1.  What is object oriented programming (OOP)?"
      ],
      "metadata": {
        "id": "ldZnSUBfaSQd"
      }
    },
    {
      "cell_type": "markdown",
      "source": [
        "- Object-oriented programming (OOP) is a programming paradigm based on the concept of \"objects\", which can contain data, in the form of fields (often known as attributes or properties), and code, in the form of procedures (often known as methods).  A feature of objects is an object's procedures that can access and often modify the data fields of the object with which they are associated (objects have a notion of \"this\" or \"self\").\n",
        "\n",
        "- In simpler terms, OOP organizes code into reusable structures called objects.  These objects combine data and functions that operate on that data.  Key principles of OOP include:\n",
        "\n",
        " * **Abstraction:**  Hiding complex implementation details and showing only essential information to the user.  Think of a car – you know how to drive it without needing to understand the inner workings of the engine.\n",
        "\n",
        " * **Encapsulation:** Bundling data (attributes) and methods that operate on that data within a single unit (the object).  This protects the data from accidental or unauthorized access.\n",
        "\n",
        " * **Inheritance:** Creating new classes (objects) based on existing classes.  The new class inherits the characteristics of the parent class and can add its own unique features.  This promotes code reusability and establishes relationships between objects.\n",
        "\n",
        " * **Polymorphism:** The ability of objects of different classes to respond to the same method call in their own specific way.  This allows for flexible and dynamic behavior.\n",
        "\n",
        "\n",
        "- OOP provides a structured and modular approach to software development, making it easier to manage complexity, maintain code, and reuse components."
      ],
      "metadata": {
        "id": "3UFd0SYUaoIS"
      }
    },
    {
      "cell_type": "markdown",
      "source": [
        "2. What is class in OOP?"
      ],
      "metadata": {
        "id": "TOWdESAMbq3m"
      }
    },
    {
      "cell_type": "markdown",
      "source": [
        "- In object-oriented programming (OOP), a class is a blueprint or template for creating objects.  It defines a set of attributes (data) and methods (functions) that characterize objects of that class.  Think of it as a cookie cutter – the cutter is the class, and the cookies it produces are the objects.  Each cookie (object) has the same basic shape and characteristics defined by the cutter (class), but they can have individual differences (e.g., different chocolate chip arrangements).\n"
      ],
      "metadata": {
        "id": "cBOPihbhbxs4"
      }
    },
    {
      "cell_type": "markdown",
      "source": [
        "3. What is object in OOP?"
      ],
      "metadata": {
        "id": "ovy3uUTPb_aO"
      }
    },
    {
      "cell_type": "markdown",
      "source": [
        "- In object-oriented programming (OOP), an object is a specific instance of a class.  Think of a class as a blueprint and an object as a concrete building built from that blueprint.  The object possesses the attributes (data) and methods (functions) defined by its class.  Each object created from the same class will have the same structure but can hold different values for its attributes.  For example, if \"Car\" is a class, then a specific car like a \"2024 Honda Civic\" would be an object of that class.  It has characteristics defined by the Car class (like color, model, engine) but with specific values for those characteristics.\n"
      ],
      "metadata": {
        "id": "jzq_LhN1cVKT"
      }
    },
    {
      "cell_type": "markdown",
      "source": [
        "4. What is the difference between abstraction and encapsulation?"
      ],
      "metadata": {
        "id": "gkMfADZ6cYMQ"
      }
    },
    {
      "cell_type": "markdown",
      "source": [
        "- Abstraction focuses on *what* an object does, hiding the *how*.  It simplifies complex systems by exposing only essential information to the user.\n",
        "- Encapsulation, on the other hand, is about *bundling* data and methods that operate on that data within a single unit (the object), and controlling access to that data.\n",
        "-Abstraction is about *what* is shown to the user, while encapsulation is about *how* that data is protected and accessed.\n"
      ],
      "metadata": {
        "id": "Y7wh7Snfcsm8"
      }
    },
    {
      "cell_type": "markdown",
      "source": [
        "5. What are the dunder methods in Python?"
      ],
      "metadata": {
        "id": "IjpWnfUfc9qo"
      }
    },
    {
      "cell_type": "markdown",
      "source": [
        "- Dunder methods in Python are special methods that have double underscores (underscores before and after the method name), also known as magic methods.\n",
        "-  They provide a way to define how objects of a class behave in certain situations, like when they are initialized, represented as strings, or compared to other objects.  \n",
        "- They are not meant to be called directly, but rather Python invokes them automatically when needed.  \n",
        "- They are crucial for defining the behavior of custom classes.\n"
      ],
      "metadata": {
        "id": "6wp-2KtYdKA9"
      }
    },
    {
      "cell_type": "markdown",
      "source": [
        "6. Explain the concept of inheritance in OOP?"
      ],
      "metadata": {
        "id": "jE2iW5WRdUgp"
      }
    },
    {
      "cell_type": "markdown",
      "source": [
        "- Inheritance is a mechanism in object-oriented programming where a new class (called the derived class or subclass) is created from an existing class (called the base class or superclass).\n",
        "-   The derived class inherits the attributes (data) and methods (functions) of the base class, and can also add its own unique attributes and methods or modify existing ones.\n",
        "- This promotes code reusability and establishes a \"is-a\" relationship between classes.\n",
        "-  For example, a \"Dog\" class might inherit from an \"Animal\" class, inheriting general animal characteristics like name and age, while adding specific attributes like breed.\n"
      ],
      "metadata": {
        "id": "HQlVvHHvdf9i"
      }
    },
    {
      "cell_type": "markdown",
      "source": [
        "7. What is polymorphism in OOP?"
      ],
      "metadata": {
        "id": "XG5fuKMydzWU"
      }
    },
    {
      "cell_type": "markdown",
      "source": [
        "- Polymorphism, meaning \"many forms,\" allows objects of different classes to respond to the same method call in their own specific way.\n",
        "- This enables flexibility, as the same method can produce different behaviors depending on the object it's called upon.\n"
      ],
      "metadata": {
        "id": "P7m1ntc-eBYu"
      }
    },
    {
      "cell_type": "markdown",
      "source": [
        "8. How is encapsulation achieved in Python?"
      ],
      "metadata": {
        "id": "waWP5lcdeHOn"
      }
    },
    {
      "cell_type": "markdown",
      "source": [
        "- Encapsulation in Python is primarily achieved through naming conventions and controlled access to attributes.  \n",
        "- While Python doesn't have strict access modifiers like `private` or `protected` found in some other languages (e.g., Java, C++), it uses a convention of prefixing attributes with a single underscore (`_`) to indicate that they are intended for internal use and should not be directly accessed from outside the class.\n",
        "-  Although technically accessible, this signals to other developers that they shouldn't modify these attributes directly.\n",
        "\n",
        "- Double underscores (`__`) before an attribute name lead to name mangling, making it harder (but not impossible) to access them directly. This provides a stronger degree of protection, primarily to prevent accidental name collisions in subclasses.  \n",
        "- These mechanisms help control access to the internal state of an object and promote better code organization.\n"
      ],
      "metadata": {
        "id": "WobKEzhheWdr"
      }
    },
    {
      "cell_type": "markdown",
      "source": [
        "9. What is constructor in Python ?"
      ],
      "metadata": {
        "id": "h61u_bkxe0If"
      }
    },
    {
      "cell_type": "markdown",
      "source": [
        "- In Python, a constructor is a special method within a class, typically named `__init__`.\n",
        "- It's automatically called when you create a new object (instance) of that class.\n",
        "- The primary purpose of the constructor is to initialize the object's attributes (data) to their initial values.\n",
        "-  This ensures that each new object starts with a defined state.\n"
      ],
      "metadata": {
        "id": "48dFRcehe9Tz"
      }
    },
    {
      "cell_type": "markdown",
      "source": [
        "10. What are class and static methods in Python?"
      ],
      "metadata": {
        "id": "PltkWfoZfK9f"
      }
    },
    {
      "cell_type": "markdown",
      "source": [
        "\n",
        "- In Python, class methods and static methods are special types of methods within a class that differ from regular instance methods.\n",
        "\n",
        " **Class Methods:**\n",
        "\n",
        " *   A class method is bound to the class and not the instance of the class. It receives the class itself (`cls`) as the first argument, allowing it to access and modify class-level attributes or create new instances of the class. Class methods are decorated using `@classmethod`.\n",
        "\n",
        " **Static Methods:**\n",
        "\n",
        " *   A static method is not bound to either the class or an instance. It doesn't receive any implicit first argument (like `self` or `cls`).  Static methods behave like regular functions but are grouped within a class because they logically relate to the class's purpose. They are decorated using `@staticmethod`.\n",
        "\n",
        "**Key Differences**\n",
        "\n",
        "| Feature        | Class Method                 | Static Method                |\n",
        "|----------------|------------------------------|-------------------------------|\n",
        "| Binding         | Bound to the class            | Not bound to class or instance |\n",
        "| First Argument  | `cls` (the class itself)     | No implicit first argument     |\n",
        "| Access         | Can access and modify class-level attributes | Cannot access class-level attributes directly |\n",
        "| Purpose        | Operations related to the class itself | Utility functions related to the class |\n"
      ],
      "metadata": {
        "id": "dFzGJLngfjL6"
      }
    },
    {
      "cell_type": "markdown",
      "source": [
        "11. What is method overloading in Python?"
      ],
      "metadata": {
        "id": "NJoLIRUcfv9O"
      }
    },
    {
      "cell_type": "markdown",
      "source": [
        "- Method overloading, in its traditional sense (defining multiple methods with the same name but different parameters within the same class), is not directly supported in Python.  Python's dynamic typing system makes it unnecessary.\n",
        "-  Instead of overloading methods, you can use either default parameter values or variable-length argument lists (`*args` and `**kwargs`) in a single method to handle different numbers or types of arguments.  This offers similar functionality.\n"
      ],
      "metadata": {
        "id": "yCXaNaebgOF5"
      }
    },
    {
      "cell_type": "markdown",
      "source": [
        "12. What is method overriding in OOP?"
      ],
      "metadata": {
        "id": "9boNuHZegZDA"
      }
    },
    {
      "cell_type": "markdown",
      "source": [
        "- Method overriding in object-oriented programming (OOP) allows a subclass to provide a specific implementation for a method that is already defined in its superclass.  \n",
        "-This means that the subclass replaces the inherited method with its own version.  \n",
        "- The overridden method in the subclass must have the same name, return type, and parameters as the method in the superclass.  \n",
        "- This allows objects of different classes within an inheritance hierarchy to respond to the same method call in their own specific way, which is a form of polymorphism.\n"
      ],
      "metadata": {
        "id": "H7uTtvGCgmHV"
      }
    },
    {
      "cell_type": "markdown",
      "source": [
        "13. What is property decorators in Python?"
      ],
      "metadata": {
        "id": "cbjbhcMKgyeL"
      }
    },
    {
      "cell_type": "markdown",
      "source": [
        "- Property decorators in Python provide a way to define methods that can be accessed like attributes.\n",
        "- They allow you to control access to an object's attributes, potentially adding validation or computation when getting or setting the attribute's value.  \n",
        "- This enhances encapsulation by allowing you to manage how attributes are accessed and modified without changing how the attribute is used by other parts of the code.\n"
      ],
      "metadata": {
        "id": "lzqkM_eeg7E8"
      }
    },
    {
      "cell_type": "markdown",
      "source": [
        "14. Why is polymorphism important in OOP?"
      ],
      "metadata": {
        "id": "ZDCtqiAXhP6a"
      }
    },
    {
      "cell_type": "markdown",
      "source": [
        "- Polymorphism is important in OOP because it allows objects of different classes to be treated as objects of a common type.  \n",
        "- This enables flexibility and extensibility in code. You can write code that works with objects of various classes without needing to know their specific type at compile time.\n",
        "\n",
        "- This makes your code more adaptable to changes and additions to the class hierarchy.\n",
        "- It simplifies code design and promotes the \"open/closed\" principle: you can extend the behavior of the system without modifying existing code.\n"
      ],
      "metadata": {
        "id": "uh7PMozPhduL"
      }
    },
    {
      "cell_type": "markdown",
      "source": [
        "15. What is abstract class in Python?"
      ],
      "metadata": {
        "id": "MV9Q3gzGnyyH"
      }
    },
    {
      "cell_type": "markdown",
      "source": [
        "-\n",
        "An abstract class in Python is a class that cannot be instantiated directly.\n",
        "-  It serves as a blueprint for other classes (subclasses) and often defines common methods or attributes that its subclasses should implement.\n",
        "-  Abstract classes enforce a certain structure and behavior on their derived classes, ensuring that they have specific functionalities.  They typically contain one or more abstract methods—methods declared but not implemented in the abstract class itself.\n",
        "- Subclasses *must* provide concrete implementations for these abstract methods.  \n",
        "- The `abc` (Abstract Base Classes) module in Python provides tools for creating abstract classes.\n"
      ],
      "metadata": {
        "id": "ho3mtN86n-71"
      }
    },
    {
      "cell_type": "markdown",
      "source": [
        "16. What are the advantages of OOP?"
      ],
      "metadata": {
        "id": "nL9o2SSJoOsR"
      }
    },
    {
      "cell_type": "markdown",
      "source": [
        "- Advantages of OOP:\n",
        "\n",
        " * **Modularity:** Code is organized into reusable objects, making it easier to manage and maintain large projects.  Changes in one part of the system are less likely to have unintended consequences elsewhere.\n",
        "\n",
        " * **Reusability:** Objects can be reused in different parts of the application or even in other projects, reducing development time and effort. Inheritance allows for creating new objects based on existing ones, further promoting reuse.\n",
        "\n",
        " * **Flexibility:** Polymorphism allows objects of different classes to respond to the same method call in their own way.  This flexibility makes code more adaptable to change and easier to extend.\n",
        "\n",
        " * **Maintainability:** Encapsulation hides complex implementation details, making it easier to understand, modify, and debug the code. Changes can be made to the internal workings of an object without affecting how other parts of the system interact with it.\n",
        "\n",
        " * **Scalability:**  OOP promotes building modular and reusable components. This makes it easier to scale the application by adding new features or functionalities without affecting existing parts.\n",
        "\n",
        " * **Real-world modeling:** OOP provides a natural way to model real-world entities and their interactions.  The concept of objects with attributes and methods closely mirrors how we think about the world.\n"
      ],
      "metadata": {
        "id": "PITywdcnoOUB"
      }
    },
    {
      "cell_type": "markdown",
      "source": [
        "17. What is the difference between a class variable and an instance variable?"
      ],
      "metadata": {
        "id": "haeQajlwoVpB"
      }
    },
    {
      "cell_type": "markdown",
      "source": [
        "- A class variable is shared among all instances (objects) of a class.\n",
        "- Modifying a class variable affects all objects of that class.\n",
        "- An instance variable, on the other hand, is unique to each instance.\n",
        "-  Changes to an instance variable only affect that specific object.\n"
      ],
      "metadata": {
        "id": "64xgKAJTpDmr"
      }
    },
    {
      "cell_type": "markdown",
      "source": [
        "18. What is multiple inheritance in Python ?"
      ],
      "metadata": {
        "id": "HQyMsf5YpRD2"
      }
    },
    {
      "cell_type": "markdown",
      "source": [
        "- Multiple inheritance in Python allows a class to inherit from multiple parent classes.\n",
        "- This means a child class can inherit attributes and methods from several different base classes, combining their functionalities.\n",
        "- This can lead to code reuse and flexibility but can also introduce complexities, such as the \"diamond problem\" where ambiguity arises if multiple parent classes have methods with the same name.\n",
        "- Python uses Method Resolution Order (MRO) to determine which parent method to call in such cases.\n"
      ],
      "metadata": {
        "id": "zLUsB2e9pui2"
      }
    },
    {
      "cell_type": "markdown",
      "source": [
        "19. Explain the purpose of ''_ _str_ _ '  and  ' _ _repr_ _'' methods in Python."
      ],
      "metadata": {
        "id": "R3udHKM8p06e"
      }
    },
    {
      "cell_type": "markdown",
      "source": [
        "- The `__str__` method in Python defines how an object should be represented as a string for human-readable output.  It's invoked when you use `str()` on an object or when you use the object in a print statement.  The goal is to provide a user-friendly representation of the object's data.\n",
        "\n",
        "\n",
        "- The `__repr__` method defines how an object should be represented as a string for unambiguous representation, primarily for debugging and development. It should provide enough information to recreate the object.  It's invoked when you use `repr()` on an object, or when you display the object in an interactive interpreter session without explicitly calling `str()`. The goal is to be as precise and complete as possible, enabling the user to recreate the object.\n"
      ],
      "metadata": {
        "id": "xbww9mL3rGj5"
      }
    },
    {
      "cell_type": "markdown",
      "source": [
        "20. What is the significance of the 'super()' function in Python ?"
      ],
      "metadata": {
        "id": "LUWuAHBMrYsT"
      }
    },
    {
      "cell_type": "markdown",
      "source": [
        "- The `super()` function in Python is primarily used in inheritance to call methods from a parent class (superclass) within a child class (subclass).\n",
        "-  It's particularly useful when you want to extend or modify the behavior of a method inherited from the parent class, while still making use of the parent class's implementation.\n",
        "- This promotes code reusability and ensures that the parent class's functionality is properly incorporated into the child class.\n"
      ],
      "metadata": {
        "id": "8qT9KMkervfc"
      }
    },
    {
      "cell_type": "markdown",
      "source": [
        "21. What is the significance of the _ _ _del_ _ _ method in Python?"
      ],
      "metadata": {
        "id": "YKdZOm9Pr4WM"
      }
    },
    {
      "cell_type": "markdown",
      "source": [
        "- The `__del__` method in Python is a destructor.  It's called when an object is about to be destroyed (garbage collected).  \n",
        "- It's used to perform cleanup actions, such as releasing resources like open files or network connections, that the object holds.\n",
        "- While useful, it's not always reliable for timing as garbage collection is not precisely predictable.\n",
        "- Therefore, it's generally better to use context managers (`with` statements) for resource management where possible, as they offer more deterministic cleanup behavior.\n"
      ],
      "metadata": {
        "id": "8_dCTgEMsXQe"
      }
    },
    {
      "cell_type": "markdown",
      "source": [
        "22. What is the difference between @staticmethod and @classmethod in Python?"
      ],
      "metadata": {
        "id": "IMBemGdisetl"
      }
    },
    {
      "cell_type": "markdown",
      "source": [
        "\n",
        "- `@staticmethod` and `@classmethod` are decorators in Python that define special methods within a class, but they serve different purposes and have distinct behaviors:\n",
        "\n",
        "- **`@staticmethod`**:  A static method is not bound to either the class or an instance of the class. It doesn't receive any implicit first argument (like `self` or `cls`).  Static methods are essentially regular functions that are grouped within a class because they logically relate to the class's purpose. They often operate on data that is not specific to an instance or the class itself.  You would use a `@staticmethod` when you need a utility function associated with a class but doesn't depend on the class's internal state or instances.\n",
        "\n",
        "\n",
        "\n",
        "- **`@classmethod`**: A class method is bound to the class and not a specific instance.  It receives the class itself (`cls`) as the first argument.  This allows a class method to access and modify class-level attributes or create new instances of the class using the class itself.  You'd use a `@classmethod` when you need a method that operates on the class as a whole, rather than on a particular instance.  Factory methods, which create new instances of a class with specific configurations, are a common use case for `@classmethod`.\n"
      ],
      "metadata": {
        "id": "aCUl523_szn_"
      }
    },
    {
      "cell_type": "markdown",
      "source": [
        "23. How does polymorphism works in Python with inheritance?"
      ],
      "metadata": {
        "id": "AEZca1s3tMOO"
      }
    },
    {
      "cell_type": "markdown",
      "source": [
        "- Polymorphism in Python, when combined with inheritance, allows objects of different classes within an inheritance hierarchy to respond to the same method call in their own specific way.\n",
        "- If a subclass provides its own implementation of a method that's already defined in its superclass (method overriding), calling that method on an object of the subclass will execute the subclass's version.\n",
        "-  This means the same method call can produce different behaviors depending on the object's actual class.\n",
        "- This flexibility makes the code more adaptable to changes and additions to the class hierarchy, as new classes can be introduced without altering existing code.\n"
      ],
      "metadata": {
        "id": "d9BXgzWvtafW"
      }
    },
    {
      "cell_type": "markdown",
      "source": [
        "24. What is the method chaining in Python OOP?"
      ],
      "metadata": {
        "id": "Gr2OX5jStm8t"
      }
    },
    {
      "cell_type": "markdown",
      "source": [
        "- Method chaining in Python OOP is a technique where multiple method calls are chained together in a single line of code.\n",
        "- Each method in the chain returns the object itself (usually using `return self`), allowing the next method to be called directly on the result.\n",
        "-  This can lead to more concise and readable code when performing a sequence of operations on the same object.\n"
      ],
      "metadata": {
        "id": "s5vaEOextzH0"
      }
    },
    {
      "cell_type": "markdown",
      "source": [
        "25. What is the purpose of the _ _ _call_ _ _ method in Python?*"
      ],
      "metadata": {
        "id": "P0Z91IBxuCwc"
      }
    },
    {
      "cell_type": "markdown",
      "source": [
        "- The `__call__` method in Python allows an object to be called as a function.\n",
        "-  When you have an object `obj` and call it like `obj()`, Python checks if the object has a `__call__` method defined.\n",
        "- If it does, that method is executed.\n",
        "-  This makes objects of a class callable, effectively giving them function-like behavior.\n"
      ],
      "metadata": {
        "id": "jknMcaOJub_t"
      }
    },
    {
      "cell_type": "markdown",
      "source": [
        "# Practical Questions"
      ],
      "metadata": {
        "id": "ZBIBmzZqukK4"
      }
    },
    {
      "cell_type": "markdown",
      "source": [
        "1. Create a parent class Animal with a method speak() that prints a generic message. Create a child class that overrides the speak method to print \"Bark!\"."
      ],
      "metadata": {
        "id": "LmwLZ5jWus_7"
      }
    },
    {
      "cell_type": "code",
      "source": [
        "class Animal:\n",
        "    def speak(self):\n",
        "        print(\"Generic animal sound \\n\")\n",
        "\n",
        "class Dog(Animal):\n",
        "    def speak(self):\n",
        "        print(\"Bark! \\n\")\n",
        "\n",
        "my_animal = Animal()\n",
        "my_animal.speak()\n",
        "\n",
        "my_dog = Dog()\n",
        "my_dog.speak()\n",
        "\n",
        "\n"
      ],
      "metadata": {
        "colab": {
          "base_uri": "https://localhost:8080/"
        },
        "id": "RHPbSjUXuqcg",
        "outputId": "b8e502ce-0574-428c-aa06-ae82e2a2e61e"
      },
      "execution_count": null,
      "outputs": [
        {
          "output_type": "stream",
          "name": "stdout",
          "text": [
            "Generic animal sound \n",
            "\n",
            "Bark! \n",
            "\n"
          ]
        }
      ]
    },
    {
      "cell_type": "markdown",
      "source": [
        "2. Write a program to create an abstract class Shape with a method area(). Derive classes Circle and Rectangle from it and implement the area() method in both."
      ],
      "metadata": {
        "id": "hYyDoEdfwQ5q"
      }
    },
    {
      "cell_type": "code",
      "source": [
        "class Shape:\n",
        "    def area(self):\n",
        "        pass\n",
        "class Circle(Shape):\n",
        "    def area(self, radius):\n",
        "        return 3.14 * radius * radius\n",
        "\n",
        "class Rectangle(Shape):\n",
        "    def area(self, length, width):\n",
        "        return length * width\n",
        "\n",
        "circle = Circle()\n",
        "print(circle.area(5))\n",
        "\n",
        "rectangle = Rectangle()\n",
        "print(rectangle.area(4, 6))"
      ],
      "metadata": {
        "colab": {
          "base_uri": "https://localhost:8080/"
        },
        "id": "I_DJxeREw5LI",
        "outputId": "05d57c73-ad3d-45b5-ad64-629255ffaa33"
      },
      "execution_count": null,
      "outputs": [
        {
          "output_type": "stream",
          "name": "stdout",
          "text": [
            "78.5\n",
            "24\n"
          ]
        }
      ]
    },
    {
      "cell_type": "markdown",
      "source": [
        "3. Implement a multi-level inheritance scenario where a class Vechile has an attribute type. Derive a class Car and further derive a class ElectricCar that adds a battery attribute."
      ],
      "metadata": {
        "id": "zP50QLXOyqjs"
      }
    },
    {
      "cell_type": "code",
      "source": [
        "class Vechile:\n",
        "    def __init__(self, type):\n",
        "        self.type = type\n",
        "\n",
        "class Car(Vechile):\n",
        "    def __init__(self, type, make, model):\n",
        "        super().__init__(type)\n",
        "        self.make = make\n",
        "        self.model = model\n",
        "\n",
        "class ElecteicCar(Car):\n",
        "    def __init__(self, type, make, model, battery_capacity):\n",
        "        super.__init__(type, make, model)\n",
        "        self.battery_capacity = battery_capacity\n",
        "\n",
        "my_electric_car = ElectricCar(\"Electric\", \"Tesla\", \"Model S\", 100)\n",
        "print(f\"Vehicle Type: {my_electric_car.type}\")\n",
        "print(f\"Make: {my_electric_car.make}\")\n",
        "print(f\"Model: {my_electric_car.model}\")\n",
        "print(f\"Battery Capacity: {my_electric_car.battery_capacity}\")\n"
      ],
      "metadata": {
        "colab": {
          "base_uri": "https://localhost:8080/"
        },
        "id": "NAG2SU4qzPd9",
        "outputId": "c618f6f6-fbe5-46d6-f6f0-ccc8255aa633"
      },
      "execution_count": null,
      "outputs": [
        {
          "output_type": "stream",
          "name": "stdout",
          "text": [
            "Vehicle Type: Electric\n",
            "Make: Tesla\n",
            "Model: Model S\n",
            "Battery Capacity: 100\n"
          ]
        }
      ]
    },
    {
      "cell_type": "markdown",
      "source": [
        "4. Demonstrate polymorphism by creating a base class Bird with a method fly(). Create two derivedd classes Sparrow and Penguin that override the fly() method."
      ],
      "metadata": {
        "id": "5gSmTjop2gPJ"
      }
    },
    {
      "cell_type": "code",
      "source": [
        "class Bird:\n",
        "    def fly(self):\n",
        "        pass\n",
        "\n",
        "class Sparrow(Bird):\n",
        "    def fly(self):\n",
        "        print(\"Sparrow is flying\")\n",
        "\n",
        "class Penguin(Bird):\n",
        "    def fly(self):\n",
        "        print(\"Penguin can't fly\")\n",
        "\n",
        "\n",
        "bird = Bird()\n",
        "bird.fly()\n",
        "\n",
        "sparrow = Sparrow()\n",
        "sparrow.fly()\n",
        "\n",
        "penguin = Penguin()\n",
        "penguin.fly()"
      ],
      "metadata": {
        "colab": {
          "base_uri": "https://localhost:8080/"
        },
        "id": "TgESQ2Yne-Fa",
        "outputId": "3718ab4f-c9ae-482e-96ba-63ee38f2bec8"
      },
      "execution_count": null,
      "outputs": [
        {
          "output_type": "stream",
          "name": "stdout",
          "text": [
            "Sparrow is flying\n",
            "Penguin can't fly\n"
          ]
        }
      ]
    },
    {
      "cell_type": "markdown",
      "source": [
        "5. Write a program to demonstrate encapsulation by creating a class BankAccount with private attributes balance and methods to deposit, withdraw and, check balance."
      ],
      "metadata": {
        "id": "7V_uyd-LgNX9"
      }
    },
    {
      "cell_type": "code",
      "source": [
        "class BankAccount:\n",
        "  def __init__(self, balance):\n",
        "    self.__balance = balance\n",
        "\n",
        "  def deposit(self, amount):\n",
        "      if amount > 0:\n",
        "           self.__balance += amount\n",
        "           print(f\"Deposited ${amount}. New Balance: ${self.__balance}.\")\n",
        "      else:\n",
        "          print(\"Invalid deposit amount.\")\n",
        "\n",
        "  def withdraw(self, amount):\n",
        "      if 0< amount <= self.__balance:\n",
        "          self.__balance -= amount\n",
        "          print(f\"Withdraw ${amount}. New Balance: ${self.__balance}.\")\n",
        "      else:\n",
        "          print(\"Invalid withdrawal amount or insufficient balance.\")\n",
        "\n",
        "  def check_balance(self):\n",
        "      print(f\"Current balance: ${self.__balance}\")\n",
        "\n",
        "\n",
        "account = BankAccount(1000)\n",
        "account.deposit(500)\n",
        "account.withdraw(200)\n",
        "account.check_balance()\n",
        "account.withdraw(1500)\n",
        "account.deposit(-100)"
      ],
      "metadata": {
        "colab": {
          "base_uri": "https://localhost:8080/"
        },
        "id": "VrAQ7YBCgw63",
        "outputId": "2fe38e4b-a3cf-43c0-d375-3d79e2a47c48"
      },
      "execution_count": null,
      "outputs": [
        {
          "output_type": "stream",
          "name": "stdout",
          "text": [
            "Deposited $500. New Balance: $1500.\n",
            "Withdraw $200. New Balance: $1300.\n",
            "Current balance: $1300\n",
            "Invalid withdrawal amount or insufficient balance.\n",
            "Invalid deposit amount.\n"
          ]
        }
      ]
    },
    {
      "cell_type": "markdown",
      "source": [
        "6. Demonstrate runtime polymorphism using a method play() in a base class Instrument. Derive classes Guitar and Piano that implement thier own version of play()."
      ],
      "metadata": {
        "id": "aSd26_fmlSAw"
      }
    },
    {
      "cell_type": "code",
      "source": [
        "class Instrument:\n",
        "  def play(self):\n",
        "     print(\"playing an instrument\")\n",
        "\n",
        "class Guitor(Instrument):\n",
        "     def play(self):\n",
        "       print(\"playing guitor\")\n",
        "\n",
        "class Piano(Instrument):\n",
        "     def play(self):\n",
        "       print(\"playing Piano\")\n",
        "\n",
        "\n",
        "instrument = Instrument()\n",
        "instrument.play()\n",
        "\n",
        "guitor = Guitor()\n",
        "guitor.play()\n",
        "\n",
        "piano = Piano()\n",
        "piano.play()"
      ],
      "metadata": {
        "colab": {
          "base_uri": "https://localhost:8080/"
        },
        "id": "B0LknyoRmCIp",
        "outputId": "d9b086e7-7455-4494-a31b-e0d1c809e19a"
      },
      "execution_count": null,
      "outputs": [
        {
          "output_type": "stream",
          "name": "stdout",
          "text": [
            "playing an instrument\n",
            "playing guitor\n",
            "playing Piano\n"
          ]
        }
      ]
    },
    {
      "cell_type": "markdown",
      "source": [
        "7. Create a class MathOperations with a class method add_numbers() to add two numbers and static method substract_numbers() to substract two numbers."
      ],
      "metadata": {
        "id": "g4nPjNpsnQvE"
      }
    },
    {
      "cell_type": "code",
      "source": [
        "class MathOperations:\n",
        "  @classmethod\n",
        "  def add_numbers(cls, a, b):\n",
        "    return a + b\n",
        "\n",
        "  @staticmethod\n",
        "  def substract_numbers(a, b):\n",
        "     return a - b\n",
        "\n",
        "result_add =  MathOperations.add_numbers(5, 3)\n",
        "print(f\"Addition: {result_add}\")\n",
        "\n",
        "result_sub = MathOperations.substract_numbers(10, 4)\n",
        "print(f\"Substractions: {result_sub}\")\n"
      ],
      "metadata": {
        "colab": {
          "base_uri": "https://localhost:8080/"
        },
        "id": "poIpadWSn3uN",
        "outputId": "ae53e813-d007-49fb-9f5e-6cfd84d909d1"
      },
      "execution_count": null,
      "outputs": [
        {
          "output_type": "stream",
          "name": "stdout",
          "text": [
            "Addition: 8\n",
            "Substractions: 6\n"
          ]
        }
      ]
    },
    {
      "cell_type": "markdown",
      "source": [
        "8. Implement a class Person with a class method to count the total number of persons created."
      ],
      "metadata": {
        "id": "zS9_I1zhptfw"
      }
    },
    {
      "cell_type": "code",
      "source": [
        "class Person:\n",
        "  count = 0\n",
        "\n",
        "  def __init__(self, name):\n",
        "    self.name = name\n",
        "    Person.count +=1\n",
        "\n",
        "  @classmethod\n",
        "  def get_total_persons(cls):\n",
        "    return cls.count\n",
        "\n",
        "person1 = Person(\"Kavya\")\n",
        "person2 = Person(\"Ajay\")\n",
        "person3 = Person(\"Bijay\")\n",
        "person4 = Person(\"Sanjay\")\n",
        "\n",
        "total_persons = Person.get_total_persons()\n",
        "print(f\"Total persons created: {total_persons}\")"
      ],
      "metadata": {
        "colab": {
          "base_uri": "https://localhost:8080/"
        },
        "id": "MWkq5BfzqBT5",
        "outputId": "8d3e9c20-99e3-4a6c-cb2d-fd522ee4bf29"
      },
      "execution_count": null,
      "outputs": [
        {
          "output_type": "stream",
          "name": "stdout",
          "text": [
            "Total persons created: 4\n"
          ]
        }
      ]
    },
    {
      "cell_type": "markdown",
      "source": [
        "9. Write a class Fraction with attributes numerator and denominator. Override  the str method to display the fraction as \"numerator/denominator\"."
      ],
      "metadata": {
        "id": "WYQfZkxl72P8"
      }
    },
    {
      "cell_type": "code",
      "source": [
        "class Fraction:\n",
        "  def __init__(self, numerator, denominator):\n",
        "    self.numerator = numerator\n",
        "    self.denominator = denominator\n",
        "\n",
        "  def __str__(self):\n",
        "    return f\"{self.numerator}/{self.denominator}\"\n",
        "\n",
        "my_fraction = Fraction(4, 5)\n",
        "print(my_fraction)\n",
        "\n"
      ],
      "metadata": {
        "colab": {
          "base_uri": "https://localhost:8080/"
        },
        "id": "0R6uJpC48y3b",
        "outputId": "5ee9a7a5-1744-411f-ac56-19eef6807a71"
      },
      "execution_count": null,
      "outputs": [
        {
          "output_type": "stream",
          "name": "stdout",
          "text": [
            "4/5\n"
          ]
        }
      ]
    },
    {
      "cell_type": "markdown",
      "source": [
        "10. Demonstrate operator overloading by creating a class Vector and overriding the add method to add two vectors."
      ],
      "metadata": {
        "id": "dvAIyuMw-AnH"
      }
    },
    {
      "cell_type": "code",
      "source": [
        "class Vector:\n",
        "  def __init__(self, x, y):\n",
        "    self.x = x\n",
        "    self.y = y\n",
        "\n",
        "  def __add__(self, other):\n",
        "    return Vector(self.x + other.x, self.y + other.y)\n",
        "\n",
        "  def __str__(self):\n",
        "    return f\"({self.x}, {self.y})\"\n",
        "\n",
        "v1 = Vector(2, 4)\n",
        "v2 = Vector(3, 1)\n",
        "v3 = v1 + v2\n",
        "print(v3)\n"
      ],
      "metadata": {
        "colab": {
          "base_uri": "https://localhost:8080/"
        },
        "id": "jE4uuisf-bXL",
        "outputId": "05569176-d8cd-44f6-9371-5011c7df0d35"
      },
      "execution_count": 1,
      "outputs": [
        {
          "output_type": "stream",
          "name": "stdout",
          "text": [
            "(5, 5)\n"
          ]
        }
      ]
    },
    {
      "cell_type": "markdown",
      "source": [
        "11. Create a class Person with attributes name and age. Add a method greet() that prints \"Hello, my name is {name} and I am {age} years old.\""
      ],
      "metadata": {
        "id": "f152IgjMU2RE"
      }
    },
    {
      "cell_type": "code",
      "source": [
        "class Person:\n",
        "  def __init__(self,name,age):\n",
        "    self.name = name\n",
        "    self.age = age\n",
        "\n",
        "  def greet(self):\n",
        "    print(f\"Hello, my name is {self.name} and I am {self.age} years old.\")\n",
        "\n",
        "person = Person(\"Kavya\", 21)\n",
        "person.greet()"
      ],
      "metadata": {
        "colab": {
          "base_uri": "https://localhost:8080/"
        },
        "id": "kTy0ZxQRVfSx",
        "outputId": "ab92cf8d-19cf-4b18-905f-5bf7abe0f42e"
      },
      "execution_count": 2,
      "outputs": [
        {
          "output_type": "stream",
          "name": "stdout",
          "text": [
            "Hello, my name is Kavya and I am 21 years old.\n"
          ]
        }
      ]
    },
    {
      "cell_type": "markdown",
      "source": [
        "12. Implement a class Student with attributes name and grades. Create a method average_grade() to compute the average of the grades."
      ],
      "metadata": {
        "id": "cpGOnl0NWG0o"
      }
    },
    {
      "cell_type": "code",
      "source": [
        "class Student:\n",
        "  def __init__(self,name,grades):\n",
        "    self.name = name\n",
        "    self.grades = grades\n",
        "  def average_grade(self):\n",
        "    if not self.grades:\n",
        "      return 0  # Handle the case of no grades\n",
        "    return sum(self.grades) / len(self.grades)\n",
        "\n",
        "student = Student(\"Kavya\", [85, 90, 78, 92, 88])\n",
        "average = student.average_grade()\n",
        "print(f\"{student.name}'s average grade: {average}\")\n",
        "\n"
      ],
      "metadata": {
        "colab": {
          "base_uri": "https://localhost:8080/"
        },
        "id": "Tdvg1FJ6WaMj",
        "outputId": "71554d57-c24f-441a-f00f-c954c90e9b21"
      },
      "execution_count": 3,
      "outputs": [
        {
          "output_type": "stream",
          "name": "stdout",
          "text": [
            "Kavya's average grade: 86.6\n"
          ]
        }
      ]
    },
    {
      "cell_type": "markdown",
      "source": [
        "13. Create a class Rectangle with methods set_dimensions() to set the dimensions and area() to calculate the area."
      ],
      "metadata": {
        "id": "XlcOxfjiX6vh"
      }
    },
    {
      "cell_type": "code",
      "source": [
        "class Rectangle:\n",
        "  def __init__(self, length, breadth):\n",
        "    self.length = length\n",
        "    self.breadth = breadth\n",
        "  def area(self):\n",
        "    area = self.length * self.breadth\n",
        "    return area\n",
        "\n",
        "rectangle = Rectangle(5, 3)\n",
        "area = rectangle.area()\n",
        "print(f\"Area of the rectangle: {area}\")"
      ],
      "metadata": {
        "colab": {
          "base_uri": "https://localhost:8080/"
        },
        "id": "dYErQZw-YSfJ",
        "outputId": "918c6b21-1905-4f1f-a969-7f0f05b42e89"
      },
      "execution_count": 4,
      "outputs": [
        {
          "output_type": "stream",
          "name": "stdout",
          "text": [
            "Area of the rectangle: 15\n"
          ]
        }
      ]
    },
    {
      "cell_type": "markdown",
      "source": [
        "14. Create a class Employee with a method calculate_salary() that computes the salary based on hours worked and hourly rate. Create a derived class Manager that adds a bonus to the salary."
      ],
      "metadata": {
        "id": "ALQc5dDAY9Am"
      }
    },
    {
      "cell_type": "code",
      "source": [
        "class Employee:\n",
        "  def __init__(self, name, hours_worked, hourly_rate):\n",
        "    self.name = name\n",
        "    self.hours_worked = hours_worked\n",
        "    self.hourly_rate = hourly_rate\n",
        "  def calculate_salary(self):\n",
        "     return self.hours_worked * self.hourly_rate\n",
        "\n",
        "class Manager(Employee):\n",
        "  def __init__(self, name, hours_worked, hourly_rate, bonus):\n",
        "    super().__init__(name, hours_worked, hourly_rate)\n",
        "    self.bonus = bonus\n",
        "  def calculate_salary(self):\n",
        "    base_salary = super().calculate_salary()\n",
        "    return base_salary + self.bonus\n",
        "\n",
        "\n",
        "employee = Employee(\"Kross\", 40, 20)\n",
        "print(f\"{employee.name}'s salary: ${employee.calculate_salary()}\")\n",
        "\n",
        "manager = Manager(\"Kavya\", 45, 30, 1000)\n",
        "print(f\"{manager.name}'s salary: ${manager.calculate_salary()}\")\n",
        "\n",
        "\n"
      ],
      "metadata": {
        "colab": {
          "base_uri": "https://localhost:8080/"
        },
        "id": "A6-JUrCVZeC4",
        "outputId": "309d5d1b-74cb-4158-cdd0-f08b334eac51"
      },
      "execution_count": 5,
      "outputs": [
        {
          "output_type": "stream",
          "name": "stdout",
          "text": [
            "Kross's salary: $800\n",
            "Kavya's salary: $2350\n"
          ]
        }
      ]
    },
    {
      "cell_type": "markdown",
      "source": [
        "15. Create a class Product with attributes name, price, and quantity. Implement a method total_price() that calculates the total price of the product."
      ],
      "metadata": {
        "id": "ZWQ6OeQ-mNgx"
      }
    },
    {
      "cell_type": "code",
      "source": [
        "class Product:\n",
        "    def __init__(self, name, price, quantity):\n",
        "        self.name = name\n",
        "        self.price = price\n",
        "        self.quantity = quantity\n",
        "\n",
        "    def total_price(self):\n",
        "        return self.price * self.quantity\n",
        "\n",
        "\n",
        "product = Product(\"bag\", 200, 15)\n",
        "total_price = product.total_price()\n",
        "print(f\"the total price of {product.name} will be ${total_price} \")"
      ],
      "metadata": {
        "colab": {
          "base_uri": "https://localhost:8080/"
        },
        "id": "WHOBpQXzneBF",
        "outputId": "2e80df7e-3231-4a39-e017-9b0c9df1d58f"
      },
      "execution_count": 2,
      "outputs": [
        {
          "output_type": "stream",
          "name": "stdout",
          "text": [
            "the total price of bag will be $3000 \n"
          ]
        }
      ]
    },
    {
      "cell_type": "markdown",
      "source": [
        "16. Create a class Animal with an abstract method sound(). Create two derived classes Cow and Sheep that implement the sound() method."
      ],
      "metadata": {
        "id": "XkCEmX_kpHGl"
      }
    },
    {
      "cell_type": "code",
      "source": [
        "class Animal:\n",
        "    def sound(self):\n",
        "        pass\n",
        "\n",
        "class Cow(Animal):\n",
        "    def sound(self):\n",
        "        return \"Moo\"\n",
        "\n",
        "class Sheep(Animal):\n",
        "    def sound(self):\n",
        "        return \"Baaa\"\n",
        "\n",
        "cow = Cow()\n",
        "print(cow.sound())\n",
        "\n",
        "sheep = Sheep()\n",
        "print(sheep.sound())"
      ],
      "metadata": {
        "colab": {
          "base_uri": "https://localhost:8080/"
        },
        "id": "dc-k1urJpujq",
        "outputId": "7b634d4a-a0d8-4a71-95b5-d01dcbb55c53"
      },
      "execution_count": 3,
      "outputs": [
        {
          "output_type": "stream",
          "name": "stdout",
          "text": [
            "Moo\n",
            "Baaa\n"
          ]
        }
      ]
    },
    {
      "cell_type": "markdown",
      "source": [
        "17. Create a class Book with attributes title, author, and year_published. Add a get_book_info() that returns a formatted string with the book's details."
      ],
      "metadata": {
        "id": "HAO0ITnGp96T"
      }
    },
    {
      "cell_type": "code",
      "source": [
        "class Book:\n",
        "  def __init__(self, title, author, year_published):\n",
        "    self.title = title\n",
        "    self.author = author\n",
        "    self.year_published = year_published\n",
        "\n",
        "  def get_book_info(self):\n",
        "    return f\"Title: {self.title}\\nAuthor: {self.author}\\nYear Published: {self.year_published}\"\n",
        "\n",
        "book = Book(\"The Alchemist\", \"Paulo Coelho\", 1988)\n",
        "book_info = book.get_book_info()\n",
        "print(book_info)"
      ],
      "metadata": {
        "colab": {
          "base_uri": "https://localhost:8080/"
        },
        "id": "x6R7J9ICqX_L",
        "outputId": "a7dcdaec-5326-47f9-eb44-ccaf2c7aaf13"
      },
      "execution_count": 4,
      "outputs": [
        {
          "output_type": "stream",
          "name": "stdout",
          "text": [
            "Title: The Alchemist\n",
            "Author: Paulo Coelho\n",
            "Year Published: 1988\n"
          ]
        }
      ]
    },
    {
      "cell_type": "markdown",
      "source": [
        "18. Create a class House with attributes address and price. Create a derived class Mansion that adds an attribute number_of_rooms."
      ],
      "metadata": {
        "id": "vvWSYvBwq9GV"
      }
    },
    {
      "cell_type": "code",
      "source": [
        "class House:\n",
        "  def __init__(self, address, price):\n",
        "    self.address = address\n",
        "    self.price = price\n",
        "\n",
        "class Mansion(House):\n",
        "  def __init__(self, address, price, number_of_rooms):\n",
        "    super().__init__(address, price)\n",
        "    self.number_of_rooms = number_of_rooms\n",
        "\n",
        "mansion = Mansion(\"123 Main St\", 250000, 8)\n",
        "print(f\"Address: {mansion.address}\")\n",
        "print(f\"Price: ${mansion.price}\")\n",
        "print(f\"Number of Rooms: {mansion.number_of_rooms}\")"
      ],
      "metadata": {
        "colab": {
          "base_uri": "https://localhost:8080/"
        },
        "id": "52vQSeWRrPBZ",
        "outputId": "afe8a473-9cab-4f21-bed3-480a7c055943"
      },
      "execution_count": 5,
      "outputs": [
        {
          "output_type": "stream",
          "name": "stdout",
          "text": [
            "Address: 123 Main St\n",
            "Price: $250000\n",
            "Number of Rooms: 8\n"
          ]
        }
      ]
    }
  ]
}